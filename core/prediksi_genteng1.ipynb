{
  "nbformat": 4,
  "nbformat_minor": 0,
  "metadata": {
    "colab": {
      "provenance": []
    },
    "kernelspec": {
      "name": "python3",
      "display_name": "Python 3"
    },
    "language_info": {
      "name": "python"
    }
  },
  "cells": [
    {
      "cell_type": "code",
      "execution_count": 16,
      "metadata": {
        "id": "wcBr4csKGgca"
      },
      "outputs": [],
      "source": [
        "import os\n",
        "import pandas as pd\n",
        "import pickle\n",
        "import numpy as np\n",
        "\n",
        "from fuzzywuzzy import fuzz\n",
        "from sklearn.linear_model import LinearRegression\n",
        "from sklearn.preprocessing import LabelEncoder, OneHotEncoder, MultiLabelBinarizer\n",
        "from sklearn.model_selection import train_test_split"
      ]
    },
    {
      "cell_type": "code",
      "source": [
        "class Training:\n",
        "    def __init__(self):\n",
        "        self.data_csv = pd.read_csv('genteng1.csv')\n",
        "        self.label_encoders = {}\n",
        "        self.model = LinearRegression()\n",
        "        print(\"TRAIN HEAD\", self.data_csv.head())\n",
        "        print(\"SHAPE\", self.data_csv.shape)\n",
        "\n",
        "    def summaries_features(self, df):\n",
        "        # tipe data\n",
        "        summary = pd.DataFrame(df.dtypes, columns=['dtypes'])\n",
        "        summary = summary.reset_index()\n",
        "\n",
        "        # jumlah missing value\n",
        "        summary['Missing'] = df.isnull().sum().values\n",
        "\n",
        "        # jumlah unique value\n",
        "        summary['Unique'] = df.nunique().values\n",
        "        return summary\n",
        "\n",
        "    def preprocess_data(self):\n",
        "        # Melakukan preprocessing pada kolom jenis dan pabrik\n",
        "        self.data_csv['Jenis'] = self.data_csv['Jenis'].apply(lambda x: x.lower())\n",
        "        self.data_csv['Pabrik'] = self.data_csv['Pabrik'].apply(lambda x: x.lower())\n",
        "\n",
        "    def fuzzy_match(self, input_string, target_strings):\n",
        "        scores = [fuzz.ratio(input_string, target) for target in target_strings]\n",
        "        max_score = max(scores)\n",
        "        max_index = scores.index(max_score)\n",
        "        return target_strings[max_index]\n",
        "\n",
        "    def encode_labels(self):\n",
        "        # membagi label yang mengandung spasi mejadi kata terpisah\n",
        "        self.data_csv['Jenis'] = self.data_csv['Jenis'].str.split()\n",
        "        self.data_csv['Pabrik'] = self.data_csv['Pabrik'].str.split()\n",
        "\n",
        "        # Mengonversi list menjadi string untuk label encoder\n",
        "        self.data_csv['Jenis'] = self.data_csv['Jenis'].apply(lambda x: ' '.join(map(str, x)))\n",
        "        self.data_csv['Pabrik'] = self.data_csv['Pabrik'].apply(lambda x: ' '.join(map(str, x)))\n",
        "\n",
        "        # membuat label encoder untuk kolom yang memerlukan encoding\n",
        "        self.label_encoders['Jenis'] = LabelEncoder()\n",
        "        self.label_encoders['Pabrik'] = LabelEncoder()\n",
        "\n",
        "        # mengubah data menjadi multi-label binarizer\n",
        "        self.mlb = MultiLabelBinarizer()\n",
        "\n",
        "        # menerapkan transformasi label encoder dan multi-label binarizer\n",
        "        # pada data\n",
        "        for column, le in self.label_encoders.items():\n",
        "            self.data_csv[column] = le.fit_transform(self.data_csv[column])\n",
        "        # self.data_csv = self.mlb.fit_transform(\n",
        "        #     self.data_csv[['Jenis','Pabrik']]\n",
        "        # )\n",
        "\n",
        "    def transform_data(self):\n",
        "        # menggabungkan fitur yang sudah diencode\n",
        "        transformed = pd.concat(\n",
        "            [self.data_csv['Jenis'],\n",
        "            self.data_csv['Pabrik']],\n",
        "            axis=1\n",
        "        )\n",
        "        # mengubah data menjadi dataframe dengan fitur yang sesuai\n",
        "        # transformed = pd.DataFrame(\n",
        "        #     self.data_csv,\n",
        "        #     columns=self.mlb.classes_\n",
        "        # )\n",
        "        return transformed\n",
        "\n",
        "    def train_model(self):\n",
        "        # mengambil fitur dan target\n",
        "        X = self.transform_data()\n",
        "        y = self.data_csv['Harga']\n",
        "\n",
        "        # melakukan pelatihan\n",
        "        self.model.fit(X, y)\n",
        "\n",
        "    def save_model(self):\n",
        "        # menyimpan model file\n",
        "        model_path = 'model_regression.pk1'\n",
        "        with open(model_path, 'wb') as file:\n",
        "            pickle.dump(self.model, file)\n",
        "\n",
        "        # menyimpan label encoder\n",
        "        encoder_path = 'model_label.pk1'\n",
        "        with open(encoder_path, 'wb') as file:\n",
        "            pickle.dump(self.label_encoders, file)\n",
        "\n",
        "        print(\"Model and label encoders have been saved.\")\n",
        "\n",
        "        # mlb_file = os.path.join(media, 'mlb_file.sav')\n",
        "        # with open(mlb_file, 'wb') as file:\n",
        "        #     pickle.dump(self.mlb_file, file)\n",
        "\n",
        "    def the_datas(self):\n",
        "        summary = self.summaries_features(self.data_csv)\n",
        "        print(\"SUMMARY\", summary)\n",
        "        self.encode_labels()\n",
        "        self.transform_data()\n",
        "        self.train_model()\n",
        "        self.save_model()\n",
        "        return summary\n"
      ],
      "metadata": {
        "id": "Z3i4vzv0HIEh"
      },
      "execution_count": 61,
      "outputs": []
    },
    {
      "cell_type": "code",
      "source": [
        "train = Training()\n",
        "train.the_datas()"
      ],
      "metadata": {
        "colab": {
          "base_uri": "https://localhost:8080/",
          "height": 365
        },
        "id": "JchP9StgKnLm",
        "outputId": "044939d8-aa42-4e30-e0b5-696550cb2ad0"
      },
      "execution_count": 62,
      "outputs": [
        {
          "output_type": "stream",
          "name": "stdout",
          "text": [
            "TRAIN HEAD                        Jenis                     Pabrik  Harga\n",
            "0            Morando Natural  PT Bukit Karya Jatiwangi    2800\n",
            "1  Morando Glazur Transparan  PT Bukit Karya Jatiwangi    3800\n",
            "2       Morando Glazur Brown  PT Bukit Karya Jatiwangi    3800\n",
            "3              Turbo Natural  PT Bukit Karya Jatiwangi    2500\n",
            "4    Turbo Glazur Transparan  PT Bukit Karya Jatiwangi    3500\n",
            "SHAPE (153, 3)\n",
            "SUMMARY     index  dtypes  Missing  Unique\n",
            "0   Jenis  object        0      69\n",
            "1  Pabrik  object        0       5\n",
            "2   Harga   int64        0      29\n",
            "Model and label encoders have been saved.\n"
          ]
        },
        {
          "output_type": "execute_result",
          "data": {
            "text/plain": [
              "    index  dtypes  Missing  Unique\n",
              "0   Jenis  object        0      69\n",
              "1  Pabrik  object        0       5\n",
              "2   Harga   int64        0      29"
            ],
            "text/html": [
              "\n",
              "  <div id=\"df-f3a6e188-2aa9-4aec-859b-ee785629bb7b\">\n",
              "    <div class=\"colab-df-container\">\n",
              "      <div>\n",
              "<style scoped>\n",
              "    .dataframe tbody tr th:only-of-type {\n",
              "        vertical-align: middle;\n",
              "    }\n",
              "\n",
              "    .dataframe tbody tr th {\n",
              "        vertical-align: top;\n",
              "    }\n",
              "\n",
              "    .dataframe thead th {\n",
              "        text-align: right;\n",
              "    }\n",
              "</style>\n",
              "<table border=\"1\" class=\"dataframe\">\n",
              "  <thead>\n",
              "    <tr style=\"text-align: right;\">\n",
              "      <th></th>\n",
              "      <th>index</th>\n",
              "      <th>dtypes</th>\n",
              "      <th>Missing</th>\n",
              "      <th>Unique</th>\n",
              "    </tr>\n",
              "  </thead>\n",
              "  <tbody>\n",
              "    <tr>\n",
              "      <th>0</th>\n",
              "      <td>Jenis</td>\n",
              "      <td>object</td>\n",
              "      <td>0</td>\n",
              "      <td>69</td>\n",
              "    </tr>\n",
              "    <tr>\n",
              "      <th>1</th>\n",
              "      <td>Pabrik</td>\n",
              "      <td>object</td>\n",
              "      <td>0</td>\n",
              "      <td>5</td>\n",
              "    </tr>\n",
              "    <tr>\n",
              "      <th>2</th>\n",
              "      <td>Harga</td>\n",
              "      <td>int64</td>\n",
              "      <td>0</td>\n",
              "      <td>29</td>\n",
              "    </tr>\n",
              "  </tbody>\n",
              "</table>\n",
              "</div>\n",
              "      <button class=\"colab-df-convert\" onclick=\"convertToInteractive('df-f3a6e188-2aa9-4aec-859b-ee785629bb7b')\"\n",
              "              title=\"Convert this dataframe to an interactive table.\"\n",
              "              style=\"display:none;\">\n",
              "        \n",
              "  <svg xmlns=\"http://www.w3.org/2000/svg\" height=\"24px\"viewBox=\"0 0 24 24\"\n",
              "       width=\"24px\">\n",
              "    <path d=\"M0 0h24v24H0V0z\" fill=\"none\"/>\n",
              "    <path d=\"M18.56 5.44l.94 2.06.94-2.06 2.06-.94-2.06-.94-.94-2.06-.94 2.06-2.06.94zm-11 1L8.5 8.5l.94-2.06 2.06-.94-2.06-.94L8.5 2.5l-.94 2.06-2.06.94zm10 10l.94 2.06.94-2.06 2.06-.94-2.06-.94-.94-2.06-.94 2.06-2.06.94z\"/><path d=\"M17.41 7.96l-1.37-1.37c-.4-.4-.92-.59-1.43-.59-.52 0-1.04.2-1.43.59L10.3 9.45l-7.72 7.72c-.78.78-.78 2.05 0 2.83L4 21.41c.39.39.9.59 1.41.59.51 0 1.02-.2 1.41-.59l7.78-7.78 2.81-2.81c.8-.78.8-2.07 0-2.86zM5.41 20L4 18.59l7.72-7.72 1.47 1.35L5.41 20z\"/>\n",
              "  </svg>\n",
              "      </button>\n",
              "      \n",
              "  <style>\n",
              "    .colab-df-container {\n",
              "      display:flex;\n",
              "      flex-wrap:wrap;\n",
              "      gap: 12px;\n",
              "    }\n",
              "\n",
              "    .colab-df-convert {\n",
              "      background-color: #E8F0FE;\n",
              "      border: none;\n",
              "      border-radius: 50%;\n",
              "      cursor: pointer;\n",
              "      display: none;\n",
              "      fill: #1967D2;\n",
              "      height: 32px;\n",
              "      padding: 0 0 0 0;\n",
              "      width: 32px;\n",
              "    }\n",
              "\n",
              "    .colab-df-convert:hover {\n",
              "      background-color: #E2EBFA;\n",
              "      box-shadow: 0px 1px 2px rgba(60, 64, 67, 0.3), 0px 1px 3px 1px rgba(60, 64, 67, 0.15);\n",
              "      fill: #174EA6;\n",
              "    }\n",
              "\n",
              "    [theme=dark] .colab-df-convert {\n",
              "      background-color: #3B4455;\n",
              "      fill: #D2E3FC;\n",
              "    }\n",
              "\n",
              "    [theme=dark] .colab-df-convert:hover {\n",
              "      background-color: #434B5C;\n",
              "      box-shadow: 0px 1px 3px 1px rgba(0, 0, 0, 0.15);\n",
              "      filter: drop-shadow(0px 1px 2px rgba(0, 0, 0, 0.3));\n",
              "      fill: #FFFFFF;\n",
              "    }\n",
              "  </style>\n",
              "\n",
              "      <script>\n",
              "        const buttonEl =\n",
              "          document.querySelector('#df-f3a6e188-2aa9-4aec-859b-ee785629bb7b button.colab-df-convert');\n",
              "        buttonEl.style.display =\n",
              "          google.colab.kernel.accessAllowed ? 'block' : 'none';\n",
              "\n",
              "        async function convertToInteractive(key) {\n",
              "          const element = document.querySelector('#df-f3a6e188-2aa9-4aec-859b-ee785629bb7b');\n",
              "          const dataTable =\n",
              "            await google.colab.kernel.invokeFunction('convertToInteractive',\n",
              "                                                     [key], {});\n",
              "          if (!dataTable) return;\n",
              "\n",
              "          const docLinkHtml = 'Like what you see? Visit the ' +\n",
              "            '<a target=\"_blank\" href=https://colab.research.google.com/notebooks/data_table.ipynb>data table notebook</a>'\n",
              "            + ' to learn more about interactive tables.';\n",
              "          element.innerHTML = '';\n",
              "          dataTable['output_type'] = 'display_data';\n",
              "          await google.colab.output.renderOutput(dataTable, element);\n",
              "          const docLink = document.createElement('div');\n",
              "          docLink.innerHTML = docLinkHtml;\n",
              "          element.appendChild(docLink);\n",
              "        }\n",
              "      </script>\n",
              "    </div>\n",
              "  </div>\n",
              "  "
            ]
          },
          "metadata": {},
          "execution_count": 62
        }
      ]
    },
    {
      "cell_type": "code",
      "source": [
        "y_pred = train.data_csv\n",
        "print(y_pred)"
      ],
      "metadata": {
        "colab": {
          "base_uri": "https://localhost:8080/"
        },
        "id": "VyvU_ynL3mXW",
        "outputId": "7f52bf21-1ba3-40cb-a237-3ebbf59a16dc"
      },
      "execution_count": 63,
      "outputs": [
        {
          "output_type": "stream",
          "name": "stdout",
          "text": [
            "     Jenis  Pabrik  Harga\n",
            "0       20       1   2800\n",
            "1       19       1   3800\n",
            "2       15       1   3800\n",
            "3       68       1   2500\n",
            "4       67       1   3500\n",
            "..     ...     ...    ...\n",
            "148     55       3   3200\n",
            "149     54       3   3200\n",
            "150      8       3   4500\n",
            "151      7       3   6000\n",
            "152      6       3   6000\n",
            "\n",
            "[153 rows x 3 columns]\n"
          ]
        }
      ]
    },
    {
      "cell_type": "code",
      "source": [
        "y_pred.hist(figsize=(10,10), xrot=-45)"
      ],
      "metadata": {
        "colab": {
          "base_uri": "https://localhost:8080/",
          "height": 934
        },
        "id": "n6Kw-7DQ62XJ",
        "outputId": "171bdf9e-d09b-48c4-d032-40b7ba1ac1e8"
      },
      "execution_count": 51,
      "outputs": [
        {
          "output_type": "execute_result",
          "data": {
            "text/plain": [
              "array([[<Axes: title={'center': 'Jenis'}>,\n",
              "        <Axes: title={'center': 'Pabrik'}>],\n",
              "       [<Axes: title={'center': 'Harga'}>, <Axes: >]], dtype=object)"
            ]
          },
          "metadata": {},
          "execution_count": 51
        },
        {
          "output_type": "display_data",
          "data": {
            "text/plain": [
              "<Figure size 1000x1000 with 4 Axes>"
            ],
            "image/png": "[encoded data removed]"
          },
          "metadata": {}
        }
      ]
    },
    {
      "cell_type": "code",
      "source": [
        "# missing value\n",
        "y_pred.select_dtypes(exclude=['object']).isnull().sum()"
      ],
      "metadata": {
        "colab": {
          "base_uri": "https://localhost:8080/"
        },
        "id": "eexwSk3R72p5",
        "outputId": "6460bac0-8aea-4609-9937-c8e937503f3e"
      },
      "execution_count": 52,
      "outputs": [
        {
          "output_type": "execute_result",
          "data": {
            "text/plain": [
              "Jenis     0\n",
              "Pabrik    0\n",
              "Harga     0\n",
              "dtype: int64"
            ]
          },
          "metadata": {},
          "execution_count": 52
        }
      ]
    },
    {
      "cell_type": "code",
      "source": [
        "corr_matrix = y_pred.corr()\n",
        "sb.heatmap(corr_matrix, annot=True, cmap='coolwarm')"
      ],
      "metadata": {
        "colab": {
          "base_uri": "https://localhost:8080/",
          "height": 453
        },
        "id": "9L6Tvu6z1VcS",
        "outputId": "bf6cc47c-0c36-4f72-9b1b-b8a86047af21"
      },
      "execution_count": 64,
      "outputs": [
        {
          "output_type": "execute_result",
          "data": {
            "text/plain": [
              "<Axes: >"
            ]
          },
          "metadata": {},
          "execution_count": 64
        },
        {
          "output_type": "display_data",
          "data": {
            "text/plain": [
              "<Figure size 640x480 with 2 Axes>"
            ],
            "image/png": "[encoded data removed]"
          },
          "metadata": {}
        }
      ]
    },
    {
      "cell_type": "code",
      "source": [
        "# Prediksi\n",
        "\n",
        "class Prediction:\n",
        "    def __init__(self):\n",
        "        self.model_file = 'model_regression.pk1'\n",
        "        self.label_file = 'model_label.pk1'\n",
        "        self.model = None\n",
        "        self.label_encoders = {}\n",
        "\n",
        "    def load_model(self):\n",
        "        with open(self.model_file, 'rb') as file:\n",
        "            self.model = pickle.load(file)\n",
        "\n",
        "        with open(self.label_file, 'rb') as file:\n",
        "            self.label_encoders = pickle.load(file)\n",
        "\n",
        "    def transform_input(self, input_data):\n",
        "        #mengubah input menjadi angka\n",
        "        transformed_input = pd.DataFrame(input_data, index=[0])\n",
        "\n",
        "        # membagi label yang mengandung spasi\n",
        "        transformed_input['Jenis'] = transformed_input['Jenis'].str.split()\n",
        "        transformed_input['Pabrik'] = transformed_input['Pabrik'].str.split()\n",
        "\n",
        "        transformed_input['Jenis'] = transformed_input['Jenis'].apply(lambda x: ' '.join(map(str, x)))\n",
        "        transformed_input['Pabrik'] = transformed_input['Pabrik'].apply(lambda x: ' '.join(map(str, x)))\n",
        "\n",
        "        # konversi list menjadi string\n",
        "        for column, le in self.label_encoders.items():\n",
        "            # Mengabaikan label yang belum pernah dilihat pada saat pelatihan\n",
        "            transformed_input[column] = transformed_input[column].apply(\n",
        "                lambda x: le.transform([x])[0] if x in le.classes_ else -1\n",
        "            )\n",
        "        return transformed_input\n",
        "\n",
        "    def predict_price(self, jenis, pabrik):\n",
        "        self.load_model()\n",
        "        print(\"LABEL ENCODER\", self.label_encoders, self.model)\n",
        "\n",
        "        print(\"Coef\", self.model.coef_)\n",
        "        print('Intercept', self.model.intercept_)\n",
        "        # mengubah input jadi angkat\n",
        "        transform_input = self.transform_input(\n",
        "            {\n",
        "                'Jenis': jenis,\n",
        "                'Pabrik': pabrik\n",
        "            }\n",
        "        )\n",
        "\n",
        "        prediksi = self.model.predict(transform_input)\n",
        "        return round(prediksi[0])"
      ],
      "metadata": {
        "id": "5Wbbd8SsyjxS"
      },
      "execution_count": 59,
      "outputs": []
    },
    {
      "cell_type": "code",
      "source": [
        "prediksi = Prediction()\n",
        "prediksi = prediksi.predict_price('merando','jatiwangi')\n",
        "\n",
        "print(f'Prediksi', prediksi)"
      ],
      "metadata": {
        "colab": {
          "base_uri": "https://localhost:8080/"
        },
        "id": "BhG9Lcnmy4ak",
        "outputId": "63660084-c319-418d-b21f-ce7fdd8c3420"
      },
      "execution_count": 68,
      "outputs": [
        {
          "output_type": "stream",
          "name": "stdout",
          "text": [
            "LABEL ENCODER {'Jenis': LabelEncoder(), 'Pabrik': LabelEncoder()} LinearRegression()\n",
            "Coef [  -32.67597103 -2594.92265421]\n",
            "Intercept 17803.023726794894\n",
            "Prediksi 20431\n"
          ]
        }
      ]
    }
  ]
}